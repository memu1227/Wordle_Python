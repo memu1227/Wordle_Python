{
 "cells": [
  {
   "cell_type": "markdown",
   "id": "e55111ef",
   "metadata": {},
   "source": [
    "# Python Assignment 1: Wordle"
   ]
  },
  {
   "cell_type": "markdown",
   "id": "31dc8d8f",
   "metadata": {},
   "source": [
    "In this assignment, you will create a simplified version of the game \"Wordle\"\n",
    "https://www.nytimes.com/games/wordle/index.html\n",
    "\n",
    "RULES:\n",
    "The player has SIX chances to guess a five-letter word (For our assignment, it does NOT have to be a valid five-letter word, any combination of five letters would be fine).\n",
    "\n",
    "Hit the enter button to submit.\n",
    "\n",
    "After each guess, the color of the tiles will change to show how close the guess was to the word:\n",
    "YELLOW means that the letter is in the word but in the wrong spot\n",
    "GREEN means that the letter is in the word and in the wrong spot\n",
    "BLACK means that the letter is not in the word\n",
    "\n",
    "Have fun :)\n",
    "\n",
    "\n"
   ]
  },
  {
   "cell_type": "code",
   "execution_count": null,
   "id": "c77d097d",
   "metadata": {},
   "outputs": [],
   "source": [
    "#install colored module\n",
    "!pip install colorama"
   ]
  },
  {
   "cell_type": "code",
   "execution_count": 4,
   "id": "c5d8bf3f",
   "metadata": {},
   "outputs": [
    {
     "name": "stdout",
     "output_type": "stream",
     "text": [
      "RULES: \n",
      "The player has SIX chances to guess a five-letter word\n",
      "\n",
      "After each guess, the color of the tiles will change to show how close the guess was to the word:\n",
      "BLUE means that the letter is in the word but in the wrong spot\n",
      "GREEN means that the letter is in the word and in the correct spot\n",
      "RED means that the letter is not in the word\n",
      "\n"
     ]
    }
   ],
   "source": [
    "#import libraries\n",
    "import random\n",
    "from colorama import Fore, Back, Style\n",
    "\n",
    "print(\"RULES: \\nThe player has SIX chances to guess a five-letter word\")\n",
    "print()\n",
    "print(\"After each guess, the color of the tiles will change to show how close the guess was to the word:\")\n",
    "print(\"BLUE means that the letter is in the word but in the wrong spot\")\n",
    "print(\"GREEN means that the letter is in the word and in the correct spot\")\n",
    "print(\"RED means that the letter is not in the word\")\n",
    "print()\n",
    "\n",
    "\n",
    "#STEP 1: Read a file that has a list of five-letter words. This is the \"words.txt\" file included in the assignment\n",
    "   \n",
    "path = \"/Users/meghamurthy/Documents/NJIT/Data Analytics for Info Sys/words.txt\"\n",
    "lines = []\n",
    "with open(path) as test:\n",
    "    lines = test.readlines()\n",
    " "
   ]
  },
  {
   "cell_type": "code",
   "execution_count": 14,
   "id": "7b66ed92",
   "metadata": {},
   "outputs": [
    {
     "name": "stdout",
     "output_type": "stream",
     "text": [
      "Word of the day: PRIOR\n"
     ]
    }
   ],
   "source": [
    "#STEP 2: Randomly choose a word as your puzzle \n",
    "\n",
    "index = random.randint(1,len(lines))\n",
    "#print(f\"Index of word: {index}\")\n",
    "word_of_day = (lines[index]).upper().strip()\n",
    "#print(f\"{index} = {word_of_day}\")\n",
    "\n",
    "#can comment out to play without knowing... print for testing purposes\n",
    "print(f\"Word of the day: {word_of_day}\")"
   ]
  },
  {
   "cell_type": "code",
   "execution_count": 16,
   "id": "ab49fc73",
   "metadata": {},
   "outputs": [
    {
     "name": "stdout",
     "output_type": "stream",
     "text": [
      "\n",
      "Please guess a five-letter word: proda\n",
      "\u001b[42m\u001b[37mP\u001b[0m \u001b[42m\u001b[37mR\u001b[0m \u001b[44m\u001b[37mO\u001b[0m \u001b[41m\u001b[37mD\u001b[0m \u001b[41m\u001b[37mA\u001b[0m \n",
      "Please guess a five-letter word: prior\n",
      "\u001b[42m\u001b[37mPRIOR\u001b[0m\n",
      "Congrats! You solved today's Wordle! "
     ]
    }
   ],
   "source": [
    "#STEP 3: Prompt the user to enter a five-letter word \n",
    "#Check the input against your word and give feedback to the user\n",
    "\n",
    "#counter\n",
    "count = 0\n",
    "while count < 6: \n",
    "    color = f\"{Back.BLACK}{Fore.WHITE}{Style.RESET_ALL}\"\n",
    "    user_word = (input(color + \"\\nPlease guess a five-letter word: \")).upper()\n",
    "    while len(user_word) != 5:\n",
    "        user_word = (input(\"Please guess a five-letter word: \")).upper()\n",
    "    list_userword = list(user_word)\n",
    "    #print(list_userword)\n",
    "    list_randword = list(word_of_day)\n",
    "    #print(list_randword)\n",
    "    if user_word == word_of_day:\n",
    "        color = f\"{Back.GREEN}{Fore.WHITE}{user_word}{Style.RESET_ALL}\"\n",
    "        print(color)\n",
    "        break;\n",
    "    for i in range(len(list_userword)):\n",
    "        if list_userword[i] == list_randword[i]:\n",
    "            color = f\"{Back.GREEN}{Fore.WHITE}{list_userword[i]}{Style.RESET_ALL}\"\n",
    "        elif list_userword[i] in list_randword:\n",
    "            color = f\"{Back.BLUE}{Fore.WHITE}{list_userword[i]}{Style.RESET_ALL}\"\n",
    "        else:\n",
    "            color = f\"{Back.RED}{Fore.WHITE}{list_userword[i]}{Style.RESET_ALL}\"\n",
    "        print(color, end = \" \")\n",
    "    count += 1\n",
    "\n",
    "if user_word == word_of_day:\n",
    "    print(\"Congrats! You solved today's Wordle!\", end = \" \")\n",
    "else:\n",
    "    print(f\"\\nThe word was: {word_of_day}. \\nSorry, try again tomorrow!\")"
   ]
  },
  {
   "cell_type": "code",
   "execution_count": null,
   "id": "3506e3fb",
   "metadata": {},
   "outputs": [],
   "source": []
  }
 ],
 "metadata": {
  "kernelspec": {
   "display_name": "Python 3 (ipykernel)",
   "language": "python",
   "name": "python3"
  },
  "language_info": {
   "codemirror_mode": {
    "name": "ipython",
    "version": 3
   },
   "file_extension": ".py",
   "mimetype": "text/x-python",
   "name": "python",
   "nbconvert_exporter": "python",
   "pygments_lexer": "ipython3",
   "version": "3.9.12"
  }
 },
 "nbformat": 4,
 "nbformat_minor": 5
}
